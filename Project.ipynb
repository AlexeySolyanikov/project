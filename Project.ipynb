{
 "cells": [
  {
   "cell_type": "code",
   "execution_count": 3,
   "metadata": {},
   "outputs": [
    {
     "name": "stdout",
     "output_type": "stream",
     "text": [
      "2016\n",
      "Високосный год\n"
     ]
    }
   ],
   "source": [
    "# является ли данный год високосным или обычным\n",
    "\n",
    "y = int(input())\n",
    "if y % 4 !=0 or y % 100 == 0 and y % 400 !=0:\n",
    "    print('Обычный год')\n",
    "else:\n",
    "    print('Високосный год')\n",
    "    \n",
    "       \n"
   ]
  },
  {
   "cell_type": "code",
   "execution_count": 15,
   "metadata": {},
   "outputs": [
    {
     "name": "stdout",
     "output_type": "stream",
     "text": [
      "Фраза 2 длиннее фразы 1\n"
     ]
    }
   ],
   "source": [
    "# сравнение длины строк\n",
    "phrase_1 = '640Кб должно хватить для любых задач. Билл Гейтс (по легенд'\n",
    "phrase_2 = '640Кб должно хватить для любых задач. Билл Гейтс (по легенде'\n",
    "\n",
    "len('phrase_1') > len('phrase_2')\n",
    "\n",
    "if phrase_1 > phrase_2:\n",
    "    print('Фраза 1 длиннее фразы 2')\n",
    "elif phrase_1 < phrase_2:\n",
    "    print('Фраза 2 длиннее фразы 1')\n",
    "elif phrase_1 == phrase_2:\n",
    "    print('Фразы равной длины')"
   ]
  },
  {
   "cell_type": "code",
   "execution_count": 5,
   "metadata": {},
   "outputs": [
    {
     "name": "stdout",
     "output_type": "stream",
     "text": [
      "Введите день: 16\n",
      "Введите месяц: Ноябрь\n",
      "Ваш знак зодиака: Скорпион\n"
     ]
    }
   ],
   "source": [
    "# определение знака зодиака\n",
    "\n",
    "date = int(input('Введите день: '))\n",
    "month = input('Введите месяц: ')\n",
    "if(date >=21 and date <=31 and month == 'Январь') or (date >= 1 and date <= 19 and month == 'Февраль'):\n",
    "    print('Ваш знак зодиака: Водолей')\n",
    "elif(date >=20 and date <=29 and month == 'Февраль') or (date >= 1 and date <= 20 and month == 'Март'):\n",
    "    print('Ваш знак зодиака: Рыбы')\n",
    "elif(date >=21 and date <=31 and month == 'Март') or (date >= 1 and date <= 20 and month == 'Апрель'):\n",
    "    print('Ваш знак зодиака: Овен')\n",
    "elif(date >=21 and date <=30 and month == 'Апрель') or (date >= 1 and date <= 20 and month == 'Май'):\n",
    "    print('Ваш знак зодиака: Телец')\n",
    "elif(date >=21 and date <=31 and month == 'Май') or (date >= 1 and date <= 21 and month == 'Июнь'):\n",
    "    print('Ваш знак зодиака: Близнецы')\n",
    "elif(date >=22 and date <=30 and month == 'Июнь') or (date >= 1 and date <= 22 and month == 'Июль'):\n",
    "    print('Ваш знак зодиака: Рак')\n",
    "elif(date >=23 and date <=31 and month == 'Июль') or (date >= 1 and date <= 23 and month == 'Август'):\n",
    "    print('Ваш знак зодиака: Лев')\n",
    "elif(date >=24 and date <=31 and month == 'Август') or (date >= 1 and date <= 22 and month == 'Сентябрь'):\n",
    "    print('Ваш знак зодиака: Дева')\n",
    "elif(date >=23 and date <=30 and month == 'Сентябрь') or (date >= 1 and date <= 23 and month == 'Октябрь'):\n",
    "    print('Ваш знак зодиака: Весы')\n",
    "elif(date >=24 and date <=31 and month == 'Октябрь') or (date >= 1 and date <= 23 and month == 'Ноябрь'):\n",
    "    print('Ваш знак зодиака: Скорпион')\n",
    "elif(date >=24 and date <=30 and month == 'Ноябрь') or (date >= 1 and date <= 21 and month == 'Декабрь'):\n",
    "    print('Ваш знак зодиака: Стрелец')\n",
    "elif(date >=22 and date <=31 and month == 'Декабрь') or (date >= 1 and date <= 20 and month == 'Январь'):\n",
    "    print('Ваш знак зодиака: Козерог')\n"
   ]
  },
  {
   "cell_type": "code",
   "execution_count": 9,
   "metadata": {},
   "outputs": [
    {
     "name": "stdout",
     "output_type": "stream",
     "text": [
      "width в сантиметрах: 45\n",
      "length в сантиметрах: 205\n",
      "height в сантиметрах: 45\n",
      "Упаковка для лыж\n"
     ]
    }
   ],
   "source": [
    "# подбор упаковок по размерам товара\n",
    "w = int(input('width в сантиметрах: '))\n",
    "l = int(input('length в сантиметрах: '))\n",
    "h = int(input('height в сантиметрах: '))\n",
    "\n",
    "if(w < 15 and l < 15 and h < 15):\n",
    "    print('Коробка № 1')\n",
    "elif(l > 200):\n",
    "        print('Упаковка для лыж')\n",
    "elif(15 < w < 50 or 15 < l < 50 or 15 < h < 50):\n",
    "    print('Коробка № 2')\n",
    "else:\n",
    "    print('Стандартная коробка № 3')\n",
    "    "
   ]
  },
  {
   "cell_type": "code",
   "execution_count": null,
   "metadata": {},
   "outputs": [],
   "source": []
  }
 ],
 "metadata": {
  "kernelspec": {
   "display_name": "Python 3",
   "language": "python",
   "name": "python3"
  },
  "language_info": {
   "codemirror_mode": {
    "name": "ipython",
    "version": 3
   },
   "file_extension": ".py",
   "mimetype": "text/x-python",
   "name": "python",
   "nbconvert_exporter": "python",
   "pygments_lexer": "ipython3",
   "version": "3.8.3"
  }
 },
 "nbformat": 4,
 "nbformat_minor": 4
}
